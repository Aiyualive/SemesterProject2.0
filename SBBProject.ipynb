{
 "cells": [
  {
   "cell_type": "code",
   "execution_count": 1,
   "metadata": {},
   "outputs": [
    {
     "name": "stdout",
     "output_type": "stream",
     "text": [
      "Once deleted, variables cannot be recovered. Proceed (y/[n])? y\n"
     ]
    }
   ],
   "source": [
    "%reset\n",
    "# del s, t, u, v, s_features, t_features, u_features, v_features"
   ]
  },
  {
   "cell_type": "code",
   "execution_count": 2,
   "metadata": {
    "scrolled": true
   },
   "outputs": [
    {
     "name": "stdout",
     "output_type": "stream",
     "text": [
      "Importing Pickle: __new_gDFZ_2019-05-27T08_55_55_819Z_DFZ01.pickle\n",
      "Warning, the name:  HOL 303.2 - 9005_D5.1  is tranformed to: \n",
      "HOL 303.2-9005D5.1\n",
      "Warning, the name:  BN 42_K6.2 - 43.2  is tranformed to: \n",
      "BN 42K6.2-43.2\n",
      "Warning, the name:  BN 42_K6.1-2  is tranformed to: \n",
      "BN 42K6.1-2\n",
      "Warning, the name:  BN 38_K6.3 - 42.3  is tranformed to: \n",
      "BN 38K6.3-42.3\n",
      "Warning, the name:  BN 38_K6.3-4  is tranformed to: \n",
      "BN 38K6.3-4\n",
      "Warning, the name:  BN 41_K5.1 - 41.1  is tranformed to: \n",
      "BN 41K5.1-41.1\n",
      "Warning, the name:  BN 41_K5.1-2  is tranformed to: \n",
      "BN 41K5.1-2\n",
      "Warning, the name:  BN 15.3 - 41_K5.2  is tranformed to: \n",
      "BN 15.3-41K5.2\n",
      "Importing Pickle: __new_gDFZ_2019-05-27T10_03_59_077Z_DFZ01.pickle\n",
      "Importing Pickle: __new_gDFZ_2019-05-27T13_05_53_330Z_DFZ01.pickle\n",
      "Importing Pickle: __new_gDFZ_2019-05-27T14_10_51_425Z_DFZ01.pickle\n"
     ]
    },
    {
     "name": "stderr",
     "output_type": "stream",
     "text": [
      "\r",
      "ZMON AXLE_11:   0%|          | 0/87 [00:00<?, ?it/s]"
     ]
    },
    {
     "name": "stdout",
     "output_type": "stream",
     "text": [
      "Warning, the name:  BN 2_K6.1-2  is tranformed to: \n",
      "BN 2K6.1-2\n",
      "#################### S ####################\n"
     ]
    },
    {
     "name": "stderr",
     "output_type": "stream",
     "text": [
      "ZMON AXLE_11: 100%|██████████| 87/87 [00:12<00:00,  6.70it/s]\n",
      "ZMON AXLE_12: 100%|██████████| 87/87 [00:11<00:00,  7.62it/s]\n",
      "ZMON AXLE_41: 100%|██████████| 87/87 [00:11<00:00,  7.64it/s]\n",
      "ZMON AXLE_42: 100%|██████████| 87/87 [00:11<00:00,  7.44it/s]\n",
      "switches AXLE_11: 100%|██████████| 44/44 [00:05<00:00,  7.49it/s]\n",
      "switches AXLE_12: 100%|██████████| 44/44 [00:05<00:00,  7.45it/s]\n",
      "switches AXLE_41: 100%|██████████| 44/44 [00:06<00:00,  7.32it/s]\n",
      "switches AXLE_42: 100%|██████████| 44/44 [00:05<00:00,  7.53it/s]\n",
      "insulationjoint AXLE_11: 100%|██████████| 67/67 [00:09<00:00,  7.25it/s]\n",
      "insulationjoint AXLE_12: 100%|██████████| 67/67 [00:10<00:00,  6.70it/s]\n",
      "insulationjoint AXLE_41: 100%|██████████| 67/67 [00:09<00:00,  7.32it/s]\n",
      "insulationjoint AXLE_42: 100%|██████████| 67/67 [00:08<00:00,  7.49it/s]\n",
      "ZMON AXLE_11:   0%|          | 0/56 [00:00<?, ?it/s]"
     ]
    },
    {
     "name": "stdout",
     "output_type": "stream",
     "text": [
      "#################### T ####################\n"
     ]
    },
    {
     "name": "stderr",
     "output_type": "stream",
     "text": [
      "ZMON AXLE_11: 100%|██████████| 56/56 [00:08<00:00,  6.70it/s]\n",
      "ZMON AXLE_12: 100%|██████████| 56/56 [00:07<00:00,  7.77it/s]\n",
      "ZMON AXLE_41: 100%|██████████| 56/56 [00:07<00:00,  7.57it/s]\n",
      "ZMON AXLE_42: 100%|██████████| 56/56 [00:07<00:00,  7.60it/s]\n",
      "switches AXLE_11: 100%|██████████| 25/25 [00:03<00:00,  7.77it/s]\n",
      "switches AXLE_12: 100%|██████████| 25/25 [00:03<00:00,  7.84it/s]\n",
      "switches AXLE_41: 100%|██████████| 25/25 [00:03<00:00,  7.80it/s]\n",
      "switches AXLE_42: 100%|██████████| 25/25 [00:03<00:00,  7.74it/s]\n",
      "insulationjoint AXLE_11: 100%|██████████| 47/47 [00:06<00:00,  7.72it/s]\n",
      "insulationjoint AXLE_12: 100%|██████████| 47/47 [00:06<00:00,  7.42it/s]\n",
      "insulationjoint AXLE_41: 100%|██████████| 47/47 [00:06<00:00,  7.43it/s]\n",
      "insulationjoint AXLE_42: 100%|██████████| 47/47 [00:06<00:00,  7.24it/s]\n",
      "ZMON AXLE_11:   0%|          | 0/74 [00:00<?, ?it/s]"
     ]
    },
    {
     "name": "stdout",
     "output_type": "stream",
     "text": [
      "#################### U ####################\n"
     ]
    },
    {
     "name": "stderr",
     "output_type": "stream",
     "text": [
      "ZMON AXLE_11: 100%|██████████| 74/74 [00:09<00:00,  7.72it/s]\n",
      "ZMON AXLE_12: 100%|██████████| 74/74 [00:08<00:00,  8.29it/s]\n",
      "ZMON AXLE_41: 100%|██████████| 74/74 [00:08<00:00,  8.29it/s]\n",
      "ZMON AXLE_42: 100%|██████████| 74/74 [00:09<00:00,  8.03it/s]\n",
      "switches AXLE_11: 100%|██████████| 30/30 [00:03<00:00,  7.73it/s]\n",
      "switches AXLE_12: 100%|██████████| 30/30 [00:03<00:00,  7.96it/s]\n",
      "switches AXLE_41: 100%|██████████| 30/30 [00:03<00:00,  8.21it/s]\n",
      "switches AXLE_42: 100%|██████████| 30/30 [00:03<00:00,  8.16it/s]\n",
      "insulationjoint AXLE_11: 100%|██████████| 43/43 [00:05<00:00,  7.87it/s]\n",
      "insulationjoint AXLE_12: 100%|██████████| 43/43 [00:05<00:00,  7.94it/s]\n",
      "insulationjoint AXLE_41: 100%|██████████| 43/43 [00:05<00:00,  8.19it/s]\n",
      "insulationjoint AXLE_42: 100%|██████████| 43/43 [00:05<00:00,  8.14it/s]\n",
      "ZMON AXLE_11:   0%|          | 0/99 [00:00<?, ?it/s]"
     ]
    },
    {
     "name": "stdout",
     "output_type": "stream",
     "text": [
      "#################### V ####################\n"
     ]
    },
    {
     "name": "stderr",
     "output_type": "stream",
     "text": [
      "ZMON AXLE_11: 100%|██████████| 99/99 [00:14<00:00,  6.64it/s]\n",
      "ZMON AXLE_12: 100%|██████████| 99/99 [00:14<00:00,  6.68it/s]\n",
      "ZMON AXLE_41: 100%|██████████| 99/99 [00:15<00:00,  6.54it/s]\n",
      "ZMON AXLE_42: 100%|██████████| 99/99 [00:16<00:00,  6.16it/s]\n",
      "switches AXLE_11: 100%|██████████| 53/53 [00:08<00:00,  6.57it/s]\n",
      "switches AXLE_12: 100%|██████████| 53/53 [00:08<00:00,  6.55it/s]\n",
      "switches AXLE_41: 100%|██████████| 53/53 [00:07<00:00,  6.66it/s]\n",
      "switches AXLE_42: 100%|██████████| 53/53 [00:07<00:00,  6.72it/s]\n",
      "insulationjoint AXLE_11: 100%|██████████| 130/130 [00:19<00:00,  6.59it/s]\n",
      "insulationjoint AXLE_12: 100%|██████████| 130/130 [00:19<00:00,  6.58it/s]\n",
      "insulationjoint AXLE_41: 100%|██████████| 130/130 [00:19<00:00,  6.57it/s]\n",
      "insulationjoint AXLE_42: 100%|██████████| 130/130 [00:19<00:00,  6.53it/s]\n"
     ]
    }
   ],
   "source": [
    "'''\n",
    "    Usage: \n",
    "    1. Load the measurement ride which is a pickle\n",
    "    2. Use defect library to process and get the featureset\n",
    "    3. Save it perhaps\n",
    "'''\n",
    "\n",
    "import pandas as pd\n",
    "import numpy as np\n",
    "from src.utils.defect_utils import Featureset\n",
    "import src.utils.import_pickle as ip\n",
    "### 20190925 - calibrated - only defects\n",
    "### 20190128 - insulation\n",
    "\"\"\"\n",
    "old_filenames=['gDFZ_2019-05-27T08_55_55_819Z_DFZ01', # s\n",
    "               'gDFZ_2019-05-27T10_03_59_077Z_DFZ01', # t - worked with this\n",
    "               'gDFZ_2019-05-27T13_05_53_330Z_DFZ01', # u\n",
    "               'gDFZ_2019-05-27T14_10_51_425Z_DFZ01'] # v\"\"\"\n",
    "\n",
    "new_filenames = ['__new_gDFZ_2019-05-27T08_55_55_819Z_DFZ01', # s - 819Z_DFZ01\n",
    "                 '__new_gDFZ_2019-05-27T10_03_59_077Z_DFZ01', # t - 077Z_DFZ01\n",
    "                 '__new_gDFZ_2019-05-27T13_05_53_330Z_DFZ01', # u - 330Z_DFZ01\n",
    "                 '__new_gDFZ_2019-05-27T14_10_51_425Z_DFZ01'] # v - 425Z_DFZ01\n",
    "\n",
    "\n",
    "s = ip.import_pickle(new_filenames[0]) # not that good\n",
    "t = ip.import_pickle(new_filenames[1])\n",
    "u = ip.import_pickle(new_filenames[2])\n",
    "v = ip.import_pickle(new_filenames[3])\n",
    "\n",
    "print(\"#################### S ####################\")\n",
    "s_features = Featureset(s)\n",
    "print(\"#################### T ####################\")\n",
    "t_features = Featureset(t)\n",
    "print(\"#################### U ####################\")\n",
    "u_features = Featureset(u)\n",
    "print(\"#################### V ####################\")\n",
    "v_features = Featureset(v)"
   ]
  },
  {
   "cell_type": "code",
   "execution_count": 3,
   "metadata": {},
   "outputs": [],
   "source": [
    "DEF = pd.concat([s_features.defects, t_features.defects, u_features.defects, v_features.defects ], axis=0)\n",
    "SWI = pd.concat([s_features.switches, t_features.switches, u_features.switches, v_features.switches ], axis=0)\n",
    "INS = pd.concat([s_features.ins_joints, t_features.ins_joints, u_features.ins_joints, v_features.ins_joints ], axis=0)"
   ]
  },
  {
   "cell_type": "code",
   "execution_count": 4,
   "metadata": {},
   "outputs": [],
   "source": [
    "### Save\n",
    "from src.utils.defect_utils import save_pickle\n",
    "save_pickle([s_features, t_features, u_features, v_features], 'new2')"
   ]
  },
  {
   "cell_type": "code",
   "execution_count": 23,
   "metadata": {},
   "outputs": [],
   "source": [
    "import numpy as np\n",
    "import matplotlib.pyplot as plt\n",
    "from matplotlib import pylab \n",
    "\n",
    "def plot_entity(df, threshold=None, entity= \"\", savepath='./AiyuDocs/new_signalplots/'):\n",
    "    \"\"\"\n",
    "    Plots each entity and saves them to a figure\n",
    "    params:\n",
    "        df: dataframe for an entity\n",
    "    \"\"\"\n",
    "    accs = np.asarray(np.vstack([val for val in df.accelerations]))\n",
    "    ybot, ytop = np.amax(accs), np.amin(accs)\n",
    "\n",
    "    feature_names  = df.columns\n",
    "    display_params = feature_names[3:-1] # Skip acc, timestamp, window length\n",
    "    for entityname, row in df.iterrows():\n",
    "        fig = plt.figure(figsize=(20,5), constrained_layout=True)\n",
    "        \n",
    "        x = (row['timestamps'] - row['timestamps'][0])/10**9\n",
    "        y = row['accelerations']\n",
    "        \n",
    "\n",
    "        ax1 = fig.add_axes((0.1, 0.2, 1, 1))\n",
    "        ax1.plot(x, y, zorder = 1)\n",
    "        if entity == 'defect':\n",
    "            ax1.set_title(\"Defect: \" + entityname)\n",
    "        else:\n",
    "            ax1.set_title(entityname)\n",
    "            \n",
    "        ax1.set_xlabel(\"Seconds\")\n",
    "        ax1.set_ylabel(\"Amplitude\")\n",
    "        ax1.set_ylim(ybot,ytop)\n",
    "        ax1.margins(x=0, y=0.1)\n",
    "        \n",
    "        caption_list = []\n",
    "        for feature in display_params:\n",
    "            if feature == 'vehicle_speed(m/s)':\n",
    "                caption_list.append('|%s|: %.1f'%(feature, df.loc[entityname, feature]))\n",
    "            else:\n",
    "                caption_list.append('|%s|: %s'%(feature, df.loc[entityname, feature]))\n",
    "                \n",
    "        if 'EKW' in entityname:\n",
    "            entityname = 'EKW_DKW' + entityname[9:] \n",
    "            \n",
    "        caption = ',    '.join(caption_list)\n",
    "                                \n",
    "        fig.text(0.1, .0005, caption, ha='left', fontsize=12)\n",
    "        fig.set_size_inches(20, 5, forward=True)\n",
    "        fig.savefig(savepath + entityname,  bbox_inches='tight')\n",
    "        #plt.show()\n",
    "        \n",
    "    pylab.close('all')"
   ]
  },
  {
   "cell_type": "code",
   "execution_count": 7,
   "metadata": {},
   "outputs": [
    {
     "name": "stderr",
     "output_type": "stream",
     "text": [
      "/Users/Mac/anaconda/lib/python3.6/site-packages/ipykernel_launcher.py:46: UserWarning: Calling figure.constrained_layout, but figure not setup to do constrained layout.  You either called GridSpec without the fig keyword, you are using plt.subplot, or you need to call figure or subplots with the constrained_layout=True kwarg.\n",
      "/Users/Mac/anaconda/lib/python3.6/site-packages/ipykernel_launcher.py:17: RuntimeWarning: More than 20 figures have been opened. Figures created through the pyplot interface (`matplotlib.pyplot.figure`) are retained until explicitly closed and may consume too much memory. (To control this warning, see the rcParam `figure.max_open_warning`).\n"
     ]
    }
   ],
   "source": [
    "plot_entity(INS)"
   ]
  },
  {
   "cell_type": "code",
   "execution_count": 8,
   "metadata": {},
   "outputs": [
    {
     "name": "stderr",
     "output_type": "stream",
     "text": [
      "/Users/Mac/anaconda/lib/python3.6/site-packages/ipykernel_launcher.py:46: UserWarning: Calling figure.constrained_layout, but figure not setup to do constrained layout.  You either called GridSpec without the fig keyword, you are using plt.subplot, or you need to call figure or subplots with the constrained_layout=True kwarg.\n",
      "/Users/Mac/anaconda/lib/python3.6/site-packages/ipykernel_launcher.py:17: RuntimeWarning: More than 20 figures have been opened. Figures created through the pyplot interface (`matplotlib.pyplot.figure`) are retained until explicitly closed and may consume too much memory. (To control this warning, see the rcParam `figure.max_open_warning`).\n"
     ]
    }
   ],
   "source": [
    "plot_entity(SWI)"
   ]
  },
  {
   "cell_type": "code",
   "execution_count": 24,
   "metadata": {},
   "outputs": [
    {
     "name": "stderr",
     "output_type": "stream",
     "text": [
      "/Users/Mac/anaconda/lib/python3.6/site-packages/ipykernel_launcher.py:49: UserWarning: Calling figure.constrained_layout, but figure not setup to do constrained layout.  You either called GridSpec without the fig keyword, you are using plt.subplot, or you need to call figure or subplots with the constrained_layout=True kwarg.\n",
      "/Users/Mac/anaconda/lib/python3.6/site-packages/ipykernel_launcher.py:17: RuntimeWarning: More than 20 figures have been opened. Figures created through the pyplot interface (`matplotlib.pyplot.figure`) are retained until explicitly closed and may consume too much memory. (To control this warning, see the rcParam `figure.max_open_warning`).\n"
     ]
    }
   ],
   "source": [
    "plot_entity(DEF, entity='defect')"
   ]
  },
  {
   "cell_type": "code",
   "execution_count": null,
   "metadata": {},
   "outputs": [],
   "source": []
  }
 ],
 "metadata": {
  "kernelspec": {
   "display_name": "Python 3",
   "language": "python",
   "name": "python3"
  },
  "language_info": {
   "codemirror_mode": {
    "name": "ipython",
    "version": 3
   },
   "file_extension": ".py",
   "mimetype": "text/x-python",
   "name": "python",
   "nbconvert_exporter": "python",
   "pygments_lexer": "ipython3",
   "version": "3.6.9"
  }
 },
 "nbformat": 4,
 "nbformat_minor": 2
}
