{
 "cells": [
  {
   "cell_type": "code",
   "execution_count": 1,
   "metadata": {
    "scrolled": true
   },
   "outputs": [
    {
     "name": "stdout",
     "output_type": "stream",
     "text": [
      "Importing Pickle: __new_gDFZ_2019-05-27T08_55_55_819Z_DFZ01.pickle\n",
      "Warning, the name:  HOL 303.2 - 9005_D5.1  is tranformed to: \n",
      "HOL 303.2-9005D5.1\n",
      "Warning, the name:  BN 42_K6.2 - 43.2  is tranformed to: \n",
      "BN 42K6.2-43.2\n",
      "Warning, the name:  BN 42_K6.1-2  is tranformed to: \n",
      "BN 42K6.1-2\n",
      "Warning, the name:  BN 38_K6.3 - 42.3  is tranformed to: \n",
      "BN 38K6.3-42.3\n",
      "Warning, the name:  BN 38_K6.3-4  is tranformed to: \n",
      "BN 38K6.3-4\n",
      "Warning, the name:  BN 41_K5.1 - 41.1  is tranformed to: \n",
      "BN 41K5.1-41.1\n",
      "Warning, the name:  BN 41_K5.1-2  is tranformed to: \n",
      "BN 41K5.1-2\n",
      "Warning, the name:  BN 15.3 - 41_K5.2  is tranformed to: \n",
      "BN 15.3-41K5.2\n",
      "Importing Pickle: __new_gDFZ_2019-05-27T10_03_59_077Z_DFZ01.pickle\n",
      "Importing Pickle: __new_gDFZ_2019-05-27T13_05_53_330Z_DFZ01.pickle\n",
      "Importing Pickle: __new_gDFZ_2019-05-27T14_10_51_425Z_DFZ01.pickle\n"
     ]
    },
    {
     "name": "stderr",
     "output_type": "stream",
     "text": [
      "\r",
      "ZMON AXLE_11:   0%|          | 0/87 [00:00<?, ?it/s]"
     ]
    },
    {
     "name": "stdout",
     "output_type": "stream",
     "text": [
      "Warning, the name:  BN 2_K6.1-2  is tranformed to: \n",
      "BN 2K6.1-2\n",
      "#################### S ####################\n"
     ]
    },
    {
     "name": "stderr",
     "output_type": "stream",
     "text": [
      "ZMON AXLE_11: 100%|██████████| 87/87 [00:13<00:00,  6.23it/s]\n",
      "ZMON AXLE_12: 100%|██████████| 87/87 [00:14<00:00,  6.21it/s]\n",
      "ZMON AXLE_41: 100%|██████████| 87/87 [00:11<00:00,  7.33it/s]\n",
      "ZMON AXLE_42: 100%|██████████| 87/87 [00:11<00:00,  7.31it/s]\n",
      "switches AXLE_11: 100%|██████████| 44/44 [00:06<00:00,  7.26it/s]\n",
      "switches AXLE_12: 100%|██████████| 44/44 [00:05<00:00,  7.49it/s]\n",
      "switches AXLE_41: 100%|██████████| 44/44 [00:05<00:00,  7.33it/s]\n",
      "switches AXLE_42: 100%|██████████| 44/44 [00:05<00:00,  7.35it/s]\n",
      "insulationjoint AXLE_11: 100%|██████████| 67/67 [00:09<00:00,  7.33it/s]\n",
      "insulationjoint AXLE_12: 100%|██████████| 67/67 [00:09<00:00,  7.22it/s]\n",
      "insulationjoint AXLE_41: 100%|██████████| 67/67 [00:09<00:00,  7.04it/s]\n",
      "insulationjoint AXLE_42: 100%|██████████| 67/67 [00:09<00:00,  7.11it/s]\n",
      "ZMON AXLE_11:   0%|          | 0/56 [00:00<?, ?it/s]"
     ]
    },
    {
     "name": "stdout",
     "output_type": "stream",
     "text": [
      "#################### T ####################\n"
     ]
    },
    {
     "name": "stderr",
     "output_type": "stream",
     "text": [
      "ZMON AXLE_11: 100%|██████████| 56/56 [00:09<00:00,  5.96it/s]\n",
      "ZMON AXLE_12: 100%|██████████| 56/56 [00:08<00:00,  6.91it/s]\n",
      "ZMON AXLE_41: 100%|██████████| 56/56 [00:08<00:00,  6.61it/s]\n",
      "ZMON AXLE_42: 100%|██████████| 56/56 [00:09<00:00,  6.14it/s]\n",
      "switches AXLE_11: 100%|██████████| 25/25 [00:03<00:00,  6.57it/s]\n",
      "switches AXLE_12: 100%|██████████| 25/25 [00:03<00:00,  6.79it/s]\n",
      "switches AXLE_41: 100%|██████████| 25/25 [00:04<00:00,  5.54it/s]\n",
      "switches AXLE_42: 100%|██████████| 25/25 [00:03<00:00,  6.96it/s]\n",
      "insulationjoint AXLE_11: 100%|██████████| 47/47 [00:06<00:00,  6.99it/s]\n",
      "insulationjoint AXLE_12: 100%|██████████| 47/47 [00:08<00:00,  5.66it/s]\n",
      "insulationjoint AXLE_41: 100%|██████████| 47/47 [00:08<00:00,  5.79it/s]\n",
      "insulationjoint AXLE_42: 100%|██████████| 47/47 [00:07<00:00,  6.12it/s]\n",
      "ZMON AXLE_11:   0%|          | 0/74 [00:00<?, ?it/s]"
     ]
    },
    {
     "name": "stdout",
     "output_type": "stream",
     "text": [
      "#################### U ####################\n"
     ]
    },
    {
     "name": "stderr",
     "output_type": "stream",
     "text": [
      "ZMON AXLE_11: 100%|██████████| 74/74 [00:11<00:00,  6.68it/s]\n",
      "ZMON AXLE_12: 100%|██████████| 74/74 [00:09<00:00,  7.41it/s]\n",
      "ZMON AXLE_41: 100%|██████████| 74/74 [00:09<00:00,  7.43it/s]\n",
      "ZMON AXLE_42: 100%|██████████| 74/74 [00:10<00:00,  7.34it/s]\n",
      "switches AXLE_11: 100%|██████████| 30/30 [00:04<00:00,  7.45it/s]\n",
      "switches AXLE_12: 100%|██████████| 30/30 [00:03<00:00,  7.62it/s]\n",
      "switches AXLE_41: 100%|██████████| 30/30 [00:03<00:00,  7.55it/s]\n",
      "switches AXLE_42: 100%|██████████| 30/30 [00:04<00:00,  7.42it/s]\n",
      "insulationjoint AXLE_11: 100%|██████████| 43/43 [00:05<00:00,  7.32it/s]\n",
      "insulationjoint AXLE_12: 100%|██████████| 43/43 [00:05<00:00,  7.45it/s]\n",
      "insulationjoint AXLE_41: 100%|██████████| 43/43 [00:05<00:00,  7.68it/s]\n",
      "insulationjoint AXLE_42: 100%|██████████| 43/43 [00:05<00:00,  7.75it/s]\n",
      "ZMON AXLE_11:   0%|          | 0/99 [00:00<?, ?it/s]"
     ]
    },
    {
     "name": "stdout",
     "output_type": "stream",
     "text": [
      "#################### V ####################\n"
     ]
    },
    {
     "name": "stderr",
     "output_type": "stream",
     "text": [
      "ZMON AXLE_11: 100%|██████████| 99/99 [00:16<00:00,  6.14it/s]\n",
      "ZMON AXLE_12: 100%|██████████| 99/99 [00:19<00:00,  5.14it/s]\n",
      "ZMON AXLE_41: 100%|██████████| 99/99 [00:15<00:00,  6.20it/s]\n",
      "ZMON AXLE_42: 100%|██████████| 99/99 [00:15<00:00,  6.31it/s]\n",
      "switches AXLE_11: 100%|██████████| 53/53 [00:08<00:00,  6.33it/s]\n",
      "switches AXLE_12: 100%|██████████| 53/53 [00:08<00:00,  6.29it/s]\n",
      "switches AXLE_41: 100%|██████████| 53/53 [00:08<00:00,  6.50it/s]\n",
      "switches AXLE_42: 100%|██████████| 53/53 [00:08<00:00,  6.37it/s]\n",
      "insulationjoint AXLE_11: 100%|██████████| 130/130 [00:22<00:00,  5.74it/s]\n",
      "insulationjoint AXLE_12: 100%|██████████| 130/130 [00:23<00:00,  5.61it/s]\n",
      "insulationjoint AXLE_41: 100%|██████████| 130/130 [00:21<00:00,  6.05it/s]\n",
      "insulationjoint AXLE_42: 100%|██████████| 130/130 [00:22<00:00,  5.78it/s]\n"
     ]
    }
   ],
   "source": [
    "import pandas as pd\n",
    "import numpy as np\n",
    "from src.utils.defect_utils import featureset\n",
    "import src.utils.import_pickle as ip\n",
    "### 20190925 - calibrated - only defects\n",
    "### 20190128 - insulation\n",
    "\"\"\"\n",
    "old_filenames=['gDFZ_2019-05-27T08_55_55_819Z_DFZ01', # s\n",
    "               'gDFZ_2019-05-27T10_03_59_077Z_DFZ01', # t - worked with this\n",
    "               'gDFZ_2019-05-27T13_05_53_330Z_DFZ01', # u\n",
    "               'gDFZ_2019-05-27T14_10_51_425Z_DFZ01'] # v\"\"\"\n",
    "\n",
    "new_filenames = ['__new_gDFZ_2019-05-27T08_55_55_819Z_DFZ01', # s - 819Z_DFZ01\n",
    "                 '__new_gDFZ_2019-05-27T10_03_59_077Z_DFZ01', # t - 077Z_DFZ01\n",
    "                 '__new_gDFZ_2019-05-27T13_05_53_330Z_DFZ01', # u - 330Z_DFZ01\n",
    "                 '__new_gDFZ_2019-05-27T14_10_51_425Z_DFZ01'] # v - 425Z_DFZ01\n",
    "\n",
    "\n",
    "s = ip.import_pickle(new_filenames[0]) # not that good\n",
    "t = ip.import_pickle(new_filenames[1])\n",
    "u = ip.import_pickle(new_filenames[2])\n",
    "v = ip.import_pickle(new_filenames[3])\n",
    "\n",
    "print(\"#################### S ####################\")\n",
    "s_features = featureset(s)\n",
    "print(\"#################### T ####################\")\n",
    "t_features = featureset(t)\n",
    "print(\"#################### U ####################\")\n",
    "u_features = featureset(u)\n",
    "print(\"#################### V ####################\")\n",
    "v_features = featureset(v)"
   ]
  },
  {
   "cell_type": "code",
   "execution_count": 2,
   "metadata": {},
   "outputs": [],
   "source": [
    "from src.utils.defect_utils import save_pickle\n",
    "save_pickle([s_features, t_features, u_features, v_features], 'new')"
   ]
  }
 ],
 "metadata": {
  "kernelspec": {
   "display_name": "Python 3",
   "language": "python",
   "name": "python3"
  },
  "language_info": {
   "codemirror_mode": {
    "name": "ipython",
    "version": 3
   },
   "file_extension": ".py",
   "mimetype": "text/x-python",
   "name": "python",
   "nbconvert_exporter": "python",
   "pygments_lexer": "ipython3",
   "version": "3.6.9"
  }
 },
 "nbformat": 4,
 "nbformat_minor": 2
}
