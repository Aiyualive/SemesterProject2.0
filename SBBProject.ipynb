{
 "cells": [
  {
   "cell_type": "code",
   "execution_count": 2,
   "metadata": {
    "scrolled": true
   },
   "outputs": [
    {
     "name": "stdout",
     "output_type": "stream",
     "text": [
      "Importing Pickle: __new_gDFZ_2019-05-27T08_55_55_819Z_DFZ01.pickle\n",
      "Warning, the name:  HOL 303.2 - 9005_D5.1  is tranformed to: \n",
      "HOL 303.2-9005D5.1\n",
      "Warning, the name:  BN 42_K6.2 - 43.2  is tranformed to: \n",
      "BN 42K6.2-43.2\n",
      "Warning, the name:  BN 42_K6.1-2  is tranformed to: \n",
      "BN 42K6.1-2\n",
      "Warning, the name:  BN 38_K6.3 - 42.3  is tranformed to: \n",
      "BN 38K6.3-42.3\n",
      "Warning, the name:  BN 38_K6.3-4  is tranformed to: \n",
      "BN 38K6.3-4\n",
      "Warning, the name:  BN 41_K5.1 - 41.1  is tranformed to: \n",
      "BN 41K5.1-41.1\n",
      "Warning, the name:  BN 41_K5.1-2  is tranformed to: \n",
      "BN 41K5.1-2\n",
      "Warning, the name:  BN 15.3 - 41_K5.2  is tranformed to: \n",
      "BN 15.3-41K5.2\n",
      "Importing Pickle: __new_gDFZ_2019-05-27T10_03_59_077Z_DFZ01.pickle\n",
      "Importing Pickle: __new_gDFZ_2019-05-27T13_05_53_330Z_DFZ01.pickle\n",
      "Importing Pickle: __new_gDFZ_2019-05-27T14_10_51_425Z_DFZ01.pickle\n"
     ]
    },
    {
     "name": "stderr",
     "output_type": "stream",
     "text": [
      "\r",
      "ZMON AXLE_11:   0%|          | 0/87 [00:00<?, ?it/s]"
     ]
    },
    {
     "name": "stdout",
     "output_type": "stream",
     "text": [
      "Warning, the name:  BN 2_K6.1-2  is tranformed to: \n",
      "BN 2K6.1-2\n",
      "#################### S ####################\n"
     ]
    },
    {
     "name": "stderr",
     "output_type": "stream",
     "text": [
      "ZMON AXLE_11: 100%|██████████| 87/87 [00:14<00:00,  5.84it/s]\n",
      "ZMON AXLE_12: 100%|██████████| 87/87 [00:13<00:00,  6.45it/s]\n",
      "ZMON AXLE_41: 100%|██████████| 87/87 [00:11<00:00,  7.45it/s]\n",
      "ZMON AXLE_42: 100%|██████████| 87/87 [00:11<00:00,  7.52it/s]\n",
      "switches AXLE_11: 100%|██████████| 44/44 [00:05<00:00,  7.44it/s]\n",
      "switches AXLE_12: 100%|██████████| 44/44 [00:05<00:00,  7.49it/s]\n",
      "switches AXLE_41: 100%|██████████| 44/44 [00:05<00:00,  7.55it/s]\n",
      "switches AXLE_42: 100%|██████████| 44/44 [00:05<00:00,  7.34it/s]\n",
      "insulationjoint AXLE_11: 100%|██████████| 67/67 [00:09<00:00,  6.89it/s]\n",
      "insulationjoint AXLE_12: 100%|██████████| 67/67 [00:09<00:00,  7.41it/s]\n",
      "insulationjoint AXLE_41: 100%|██████████| 67/67 [00:08<00:00,  7.77it/s]\n",
      "insulationjoint AXLE_42: 100%|██████████| 67/67 [00:08<00:00,  7.70it/s]\n",
      "ZMON AXLE_11:   0%|          | 0/56 [00:00<?, ?it/s]"
     ]
    },
    {
     "name": "stdout",
     "output_type": "stream",
     "text": [
      "#################### T ####################\n"
     ]
    },
    {
     "name": "stderr",
     "output_type": "stream",
     "text": [
      "ZMON AXLE_11: 100%|██████████| 56/56 [00:09<00:00,  5.84it/s]\n",
      "ZMON AXLE_12: 100%|██████████| 56/56 [00:08<00:00,  6.91it/s]\n",
      "ZMON AXLE_41: 100%|██████████| 56/56 [00:07<00:00,  7.02it/s]\n",
      "ZMON AXLE_42: 100%|██████████| 56/56 [00:08<00:00,  6.69it/s]\n",
      "switches AXLE_11: 100%|██████████| 25/25 [00:03<00:00,  6.73it/s]\n",
      "switches AXLE_12: 100%|██████████| 25/25 [00:03<00:00,  6.92it/s]\n",
      "switches AXLE_41: 100%|██████████| 25/25 [00:03<00:00,  7.21it/s]\n",
      "switches AXLE_42: 100%|██████████| 25/25 [00:03<00:00,  7.18it/s]\n",
      "insulationjoint AXLE_11: 100%|██████████| 47/47 [00:06<00:00,  7.23it/s]\n",
      "insulationjoint AXLE_12: 100%|██████████| 47/47 [00:06<00:00,  6.72it/s]\n",
      "insulationjoint AXLE_41: 100%|██████████| 47/47 [00:06<00:00,  6.80it/s]\n",
      "insulationjoint AXLE_42: 100%|██████████| 47/47 [00:06<00:00,  7.13it/s]\n",
      "ZMON AXLE_11:   0%|          | 0/74 [00:00<?, ?it/s]"
     ]
    },
    {
     "name": "stdout",
     "output_type": "stream",
     "text": [
      "#################### U ####################\n"
     ]
    },
    {
     "name": "stderr",
     "output_type": "stream",
     "text": [
      "ZMON AXLE_11: 100%|██████████| 74/74 [00:11<00:00,  6.64it/s]\n",
      "ZMON AXLE_12: 100%|██████████| 74/74 [00:09<00:00,  7.50it/s]\n",
      "ZMON AXLE_41: 100%|██████████| 74/74 [00:09<00:00,  7.55it/s]\n",
      "ZMON AXLE_42: 100%|██████████| 74/74 [00:10<00:00,  7.15it/s]\n",
      "switches AXLE_11: 100%|██████████| 30/30 [00:03<00:00,  7.70it/s]\n",
      "switches AXLE_12: 100%|██████████| 30/30 [00:04<00:00,  7.26it/s]\n",
      "switches AXLE_41: 100%|██████████| 30/30 [00:04<00:00,  7.32it/s]\n",
      "switches AXLE_42: 100%|██████████| 30/30 [00:04<00:00,  7.45it/s]\n",
      "insulationjoint AXLE_11: 100%|██████████| 43/43 [00:05<00:00,  7.33it/s]\n",
      "insulationjoint AXLE_12: 100%|██████████| 43/43 [00:05<00:00,  7.82it/s]\n",
      "insulationjoint AXLE_41: 100%|██████████| 43/43 [00:05<00:00,  7.53it/s]\n",
      "insulationjoint AXLE_42: 100%|██████████| 43/43 [00:05<00:00,  7.49it/s]\n",
      "ZMON AXLE_11:   0%|          | 0/99 [00:00<?, ?it/s]"
     ]
    },
    {
     "name": "stdout",
     "output_type": "stream",
     "text": [
      "#################### V ####################\n"
     ]
    },
    {
     "name": "stderr",
     "output_type": "stream",
     "text": [
      "ZMON AXLE_11: 100%|██████████| 99/99 [00:15<00:00,  6.22it/s]\n",
      "ZMON AXLE_12: 100%|██████████| 99/99 [00:15<00:00,  6.34it/s]\n",
      "ZMON AXLE_41: 100%|██████████| 99/99 [00:16<00:00,  5.88it/s]\n",
      "ZMON AXLE_42: 100%|██████████| 99/99 [00:15<00:00,  6.27it/s]\n",
      "switches AXLE_11: 100%|██████████| 53/53 [00:08<00:00,  6.37it/s]\n",
      "switches AXLE_12: 100%|██████████| 53/53 [00:08<00:00,  6.30it/s]\n",
      "switches AXLE_41: 100%|██████████| 53/53 [00:08<00:00,  6.24it/s]\n",
      "switches AXLE_42: 100%|██████████| 53/53 [00:08<00:00,  6.38it/s]\n",
      "insulationjoint AXLE_11: 100%|██████████| 130/130 [00:20<00:00,  6.36it/s]\n",
      "insulationjoint AXLE_12: 100%|██████████| 130/130 [00:21<00:00,  6.16it/s]\n",
      "insulationjoint AXLE_41: 100%|██████████| 130/130 [00:20<00:00,  6.20it/s]\n",
      "insulationjoint AXLE_42: 100%|██████████| 130/130 [00:20<00:00,  6.38it/s]\n"
     ]
    }
   ],
   "source": [
    "'''\n",
    "    Usage: \n",
    "    1. Load the measurement ride which is a pickle\n",
    "    2. Use defect library to process and get the featureset\n",
    "    3. Save it perhaps\n",
    "'''\n",
    "\n",
    "import pandas as pd\n",
    "import numpy as np\n",
    "from src.utils.defect_utils import featureset\n",
    "import src.utils.import_pickle as ip\n",
    "### 20190925 - calibrated - only defects\n",
    "### 20190128 - insulation\n",
    "\"\"\"\n",
    "old_filenames=['gDFZ_2019-05-27T08_55_55_819Z_DFZ01', # s\n",
    "               'gDFZ_2019-05-27T10_03_59_077Z_DFZ01', # t - worked with this\n",
    "               'gDFZ_2019-05-27T13_05_53_330Z_DFZ01', # u\n",
    "               'gDFZ_2019-05-27T14_10_51_425Z_DFZ01'] # v\"\"\"\n",
    "\n",
    "new_filenames = ['__new_gDFZ_2019-05-27T08_55_55_819Z_DFZ01', # s - 819Z_DFZ01\n",
    "                 '__new_gDFZ_2019-05-27T10_03_59_077Z_DFZ01', # t - 077Z_DFZ01\n",
    "                 '__new_gDFZ_2019-05-27T13_05_53_330Z_DFZ01', # u - 330Z_DFZ01\n",
    "                 '__new_gDFZ_2019-05-27T14_10_51_425Z_DFZ01'] # v - 425Z_DFZ01\n",
    "\n",
    "\n",
    "s = ip.import_pickle(new_filenames[0]) # not that good\n",
    "t = ip.import_pickle(new_filenames[1])\n",
    "u = ip.import_pickle(new_filenames[2])\n",
    "v = ip.import_pickle(new_filenames[3])\n",
    "\n",
    "print(\"#################### S ####################\")\n",
    "s_features = featureset(s)\n",
    "print(\"#################### T ####################\")\n",
    "t_features = featureset(t)\n",
    "print(\"#################### U ####################\")\n",
    "u_features = featureset(u)\n",
    "print(\"#################### V ####################\")\n",
    "v_features = featureset(v)"
   ]
  },
  {
   "cell_type": "code",
   "execution_count": 2,
   "metadata": {},
   "outputs": [],
   "source": [
    "# from src.utils.defect_utils import save_pickle\n",
    "# save_pickle([s_features, t_features, u_features, v_features], 'new')"
   ]
  },
  {
   "cell_type": "code",
   "execution_count": 5,
   "metadata": {
    "scrolled": true
   },
   "outputs": [],
   "source": [
    "#pd.options.display.max_rows = 999\n",
    "#s_features.defects"
   ]
  },
  {
   "cell_type": "code",
   "execution_count": 7,
   "metadata": {},
   "outputs": [
    {
     "data": {
      "text/plain": [
       "Index(['ZMON.Abweichung.ID', 'ZMON.Abweichung.Status',\n",
       "       'ZMON.Abweichung.Objekt_AKS_Stufe', 'ZMON.Abweichung.Objekt_Name',\n",
       "       'ZMON.Abweichung.Objekt_Attribut',\n",
       "       'ZMON.Abweichung.Erste_Feststellung_am',\n",
       "       'ZMON.Abweichung.Erste_Feststellung_durch_(Name,_Vorname)',\n",
       "       'ZMON.Abweichung.Letzte_Feststellung_am',\n",
       "       'ZMON.Abweichung.letzte_Feststellung_durch_(Name,_Vorname)',\n",
       "       'ZMON.Abweichungstyp_Code', 'ZMON.Abweichungstyp_(DE)',\n",
       "       'ZMON.Abweichung.Dringlichkeit', 'ZMON.Abweichung.Entdeckungsart',\n",
       "       'ZMON.Abweichung.Massnahmeidee', 'ZMON.Abweichung.Linie_Nr',\n",
       "       'ZMON.Abweichung.Linie_Name', 'ZMON.L/K_Nr.', 'ZMON.Abweichung.KM_von',\n",
       "       'ZMON.Abweichung.KM_bis', 'ZMON.Abweichung.Y-Koordinate',\n",
       "       'ZMON.Abweichung.X-Koordinate', 'ZMON.Abweichung.Positionierung_(DE)',\n",
       "       'ZMON.Massnahme.ID_(Status,_AMGT_ID)',\n",
       "       'ZMON.Massnahmengruppe.ID_(Status,_AMGT_ID)', 'ZMON.Av_Region',\n",
       "       'ZMON.meterposition_von', 'ZMON.gDFZ.covereddistance_von',\n",
       "       'ZMON.gDFZ.timestamp_von', 'ZMON.meterposition_bis',\n",
       "       'ZMON.gDFZ.covereddistance_bis', 'ZMON.gDFZ.timestamp_bis',\n",
       "       'ZMON.gDFZ.covereddistance_von.AXLE_4',\n",
       "       'ZMON.gDFZ.covereddistance_von.AXLE_1',\n",
       "       'ZMON.gDFZ.timestamp_von.AXLE_1', 'ZMON.gDFZ.timestamp_von.AXLE_4',\n",
       "       'ZMON.gDFZ.covereddistance_bis.AXLE_4',\n",
       "       'ZMON.gDFZ.covereddistance_bis.AXLE_1',\n",
       "       'ZMON.gDFZ.timestamp_bis.AXLE_1', 'ZMON.gDFZ.timestamp_bis.AXLE_4'],\n",
       "      dtype='object')"
      ]
     },
     "execution_count": 7,
     "metadata": {},
     "output_type": "execute_result"
    }
   ],
   "source": [
    "s.ZMON.columns"
   ]
  },
  {
   "cell_type": "code",
   "execution_count": 9,
   "metadata": {},
   "outputs": [
    {
     "data": {
      "text/plain": [
       "array(['AT-Schweissung mit Squat', 'Ausbruch in der Zunge', 'Bankett',\n",
       "       'Beschädigte Betonschwellen',\n",
       "       'Entwässerung oder Wasserkanal verstopft',\n",
       "       'Gleisgeometrie, Grundparameter', 'Gleisgeometrie, Spurweite',\n",
       "       'Gleisgeometrie, Standardabweichungen',\n",
       "       'Head-Checking:  Periodische Rissbildung / Ausbrechungen an der Fahrkante',\n",
       "       'Isolierstoss mit Überwalzung.',\n",
       "       'Kilometer-, Hektometer- oder Metertafeln',\n",
       "       'Lose/fehlende Schienenbefestigung',\n",
       "       'Lose/fehlende Schwellenbefestigung',\n",
       "       'Mitten in der Schienenlänge: Oberflächenfehler',\n",
       "       'Mitten in der Schienenlänge: Schleuderstellen oder Schnellbremsspuren',\n",
       "       'Mitten in der Schienenlänge: Squat / Rissbildung und örtliche Einsenkung der Lauffläche',\n",
       "       'Oberflächlicher Fehler (Flügelschiene oder Herz)',\n",
       "       'Schienenende: Sprödbruch', 'Schienenende: Verquetschung',\n",
       "       'Schienenende: örtliche Einsenkung der Lauffläche',\n",
       "       'Schotter auf Schwellen', 'Schotterfliessen, weisser Schotter',\n",
       "       'Ungenügendes Schotterprofil', 'Verletzungen',\n",
       "       'Weiterer Abweichungstyp', 'Zungenspitze angefahren'], dtype=object)"
      ]
     },
     "execution_count": 9,
     "metadata": {},
     "output_type": "execute_result"
    }
   ],
   "source": [
    "np.unique(s.ZMON['ZMON.Abweichungstyp_(DE)'])"
   ]
  },
  {
   "cell_type": "code",
   "execution_count": 11,
   "metadata": {},
   "outputs": [
    {
     "data": {
      "text/plain": [
       "array(['Gleis', 'Weiche'], dtype=object)"
      ]
     },
     "execution_count": 11,
     "metadata": {},
     "output_type": "execute_result"
    }
   ],
   "source": [
    "np.unique(s.ZMON['ZMON.Abweichung.Objekt_AKS_Stufe'])"
   ]
  },
  {
   "cell_type": "code",
   "execution_count": 13,
   "metadata": {},
   "outputs": [
    {
     "data": {
      "text/html": [
       "<div>\n",
       "<style scoped>\n",
       "    .dataframe tbody tr th:only-of-type {\n",
       "        vertical-align: middle;\n",
       "    }\n",
       "\n",
       "    .dataframe tbody tr th {\n",
       "        vertical-align: top;\n",
       "    }\n",
       "\n",
       "    .dataframe thead th {\n",
       "        text-align: right;\n",
       "    }\n",
       "</style>\n",
       "<table border=\"1\" class=\"dataframe\">\n",
       "  <thead>\n",
       "    <tr style=\"text-align: right;\">\n",
       "      <th></th>\n",
       "      <th>timestamps</th>\n",
       "      <th>accelerations</th>\n",
       "      <th>window_length(s)</th>\n",
       "      <th>severity</th>\n",
       "      <th>vehicle_speed(m/s)</th>\n",
       "      <th>axle</th>\n",
       "      <th>campagin_ID</th>\n",
       "      <th>driving_direction</th>\n",
       "      <th>defect_type</th>\n",
       "      <th>defect_length(m)</th>\n",
       "      <th>line, defect_ID</th>\n",
       "      <th>class_label</th>\n",
       "    </tr>\n",
       "  </thead>\n",
       "  <tbody>\n",
       "    <tr>\n",
       "      <td>Vignolschiene_0_AXLE_11</td>\n",
       "      <td>[1558941666026833408, 1558941666026875136, 155...</td>\n",
       "      <td>[-10.078213408229999, -10.571337000069999, -10...</td>\n",
       "      <td>0.999958</td>\n",
       "      <td>3</td>\n",
       "      <td>10.340905</td>\n",
       "      <td>AXLE_11</td>\n",
       "      <td>819Z_DFZ01</td>\n",
       "      <td>1</td>\n",
       "      <td>Vignolschiene</td>\n",
       "      <td>0.000000</td>\n",
       "      <td>(220, A-149704)</td>\n",
       "      <td>18</td>\n",
       "    </tr>\n",
       "    <tr>\n",
       "      <td>Vignolschiene_1_AXLE_11</td>\n",
       "      <td>[1558941669269291520, 1558941669269333248, 155...</td>\n",
       "      <td>[-6.9653707347400005, -3.6367864898199995, -6....</td>\n",
       "      <td>0.999958</td>\n",
       "      <td>3</td>\n",
       "      <td>10.704910</td>\n",
       "      <td>AXLE_11</td>\n",
       "      <td>819Z_DFZ01</td>\n",
       "      <td>1</td>\n",
       "      <td>Vignolschiene</td>\n",
       "      <td>0.000000</td>\n",
       "      <td>(220, A-179597)</td>\n",
       "      <td>18</td>\n",
       "    </tr>\n",
       "    <tr>\n",
       "      <td>Stockschiene_0_AXLE_11</td>\n",
       "      <td>[1558941675105791488, 1558941675105833216, 155...</td>\n",
       "      <td>[-1.6951123469499993, -0.89378651021, -0.33902...</td>\n",
       "      <td>0.999959</td>\n",
       "      <td>4</td>\n",
       "      <td>10.776374</td>\n",
       "      <td>AXLE_11</td>\n",
       "      <td>819Z_DFZ01</td>\n",
       "      <td>1</td>\n",
       "      <td>Stockschiene</td>\n",
       "      <td>0.000000</td>\n",
       "      <td>(450, A-188040)</td>\n",
       "      <td>17</td>\n",
       "    </tr>\n",
       "    <tr>\n",
       "      <td>Zungenschiene_0_AXLE_11</td>\n",
       "      <td>[1558941685452791808, 1558941685452833536, 155...</td>\n",
       "      <td>[-2.7121797551199993, -2.8662808775699995, -2....</td>\n",
       "      <td>0.999958</td>\n",
       "      <td>2</td>\n",
       "      <td>10.403099</td>\n",
       "      <td>AXLE_11</td>\n",
       "      <td>819Z_DFZ01</td>\n",
       "      <td>1</td>\n",
       "      <td>Zungenschiene</td>\n",
       "      <td>0.000000</td>\n",
       "      <td>(450, A-216895)</td>\n",
       "      <td>20</td>\n",
       "    </tr>\n",
       "    <tr>\n",
       "      <td>Herzstückspitze_0_AXLE_11</td>\n",
       "      <td>[1558941896855916800, 1558941896855958272, 155...</td>\n",
       "      <td>[-12.17398867355, -14.88616842867, -15.4717526...</td>\n",
       "      <td>0.999958</td>\n",
       "      <td>2</td>\n",
       "      <td>27.627283</td>\n",
       "      <td>AXLE_11</td>\n",
       "      <td>819Z_DFZ01</td>\n",
       "      <td>1</td>\n",
       "      <td>Herzstückspitze</td>\n",
       "      <td>75.743815</td>\n",
       "      <td>(450, A-222163)</td>\n",
       "      <td>10</td>\n",
       "    </tr>\n",
       "    <tr>\n",
       "      <td>...</td>\n",
       "      <td>...</td>\n",
       "      <td>...</td>\n",
       "      <td>...</td>\n",
       "      <td>...</td>\n",
       "      <td>...</td>\n",
       "      <td>...</td>\n",
       "      <td>...</td>\n",
       "      <td>...</td>\n",
       "      <td>...</td>\n",
       "      <td>...</td>\n",
       "      <td>...</td>\n",
       "      <td>...</td>\n",
       "    </tr>\n",
       "    <tr>\n",
       "      <td>Schweissverbindung_0_AXLE_42</td>\n",
       "      <td>[1558942699977833216, 1558942699977874944, 155...</td>\n",
       "      <td>[-30.487122215, -29.490607495, -36.964467895, ...</td>\n",
       "      <td>0.999958</td>\n",
       "      <td>-1</td>\n",
       "      <td>44.597393</td>\n",
       "      <td>AXLE_42</td>\n",
       "      <td>819Z_DFZ01</td>\n",
       "      <td>1</td>\n",
       "      <td>Schweissverbindung</td>\n",
       "      <td>0.000000</td>\n",
       "      <td>(400, A-228571)</td>\n",
       "      <td>15</td>\n",
       "    </tr>\n",
       "    <tr>\n",
       "      <td>Schotter_13_AXLE_42</td>\n",
       "      <td>[1558942513962125056, 1558942513962166528, 155...</td>\n",
       "      <td>[7.16244955, 18.93377968, -11.895894469999998,...</td>\n",
       "      <td>0.999958</td>\n",
       "      <td>2</td>\n",
       "      <td>38.729076</td>\n",
       "      <td>AXLE_42</td>\n",
       "      <td>819Z_DFZ01</td>\n",
       "      <td>1</td>\n",
       "      <td>Schotter</td>\n",
       "      <td>0.000000</td>\n",
       "      <td>(400, A-219762)</td>\n",
       "      <td>14</td>\n",
       "    </tr>\n",
       "    <tr>\n",
       "      <td>Weiche_1_AXLE_42</td>\n",
       "      <td>[1558942100039124992, 1558942100039166720, 155...</td>\n",
       "      <td>[-29.303760984999997, -36.37278728, -46.244511...</td>\n",
       "      <td>0.999958</td>\n",
       "      <td>2</td>\n",
       "      <td>41.671242</td>\n",
       "      <td>AXLE_42</td>\n",
       "      <td>819Z_DFZ01</td>\n",
       "      <td>1</td>\n",
       "      <td>Weiche</td>\n",
       "      <td>28.006744</td>\n",
       "      <td>(400, A-202102)</td>\n",
       "      <td>19</td>\n",
       "    </tr>\n",
       "    <tr>\n",
       "      <td>Schotter_14_AXLE_42</td>\n",
       "      <td>[1558942089148291584, 1558942089148333312, 155...</td>\n",
       "      <td>[-26.53220442, -27.466436969999997, -15.881953...</td>\n",
       "      <td>0.999959</td>\n",
       "      <td>2</td>\n",
       "      <td>42.557716</td>\n",
       "      <td>AXLE_42</td>\n",
       "      <td>819Z_DFZ01</td>\n",
       "      <td>1</td>\n",
       "      <td>Schotter</td>\n",
       "      <td>0.000000</td>\n",
       "      <td>(400, A-195523)</td>\n",
       "      <td>14</td>\n",
       "    </tr>\n",
       "    <tr>\n",
       "      <td>Entwässerungsgraben_0_AXLE_42</td>\n",
       "      <td>[1558942643403583232, 1558942643403624960, 155...</td>\n",
       "      <td>[30.33141679, 22.639568795, 16.691621559999998...</td>\n",
       "      <td>0.999958</td>\n",
       "      <td>3</td>\n",
       "      <td>38.792633</td>\n",
       "      <td>AXLE_42</td>\n",
       "      <td>819Z_DFZ01</td>\n",
       "      <td>1</td>\n",
       "      <td>Entwässerungsgraben</td>\n",
       "      <td>0.000000</td>\n",
       "      <td>(400, A-103219)</td>\n",
       "      <td>5</td>\n",
       "    </tr>\n",
       "  </tbody>\n",
       "</table>\n",
       "<p>348 rows × 12 columns</p>\n",
       "</div>"
      ],
      "text/plain": [
       "                                                                      timestamps  \\\n",
       "Vignolschiene_0_AXLE_11        [1558941666026833408, 1558941666026875136, 155...   \n",
       "Vignolschiene_1_AXLE_11        [1558941669269291520, 1558941669269333248, 155...   \n",
       "Stockschiene_0_AXLE_11         [1558941675105791488, 1558941675105833216, 155...   \n",
       "Zungenschiene_0_AXLE_11        [1558941685452791808, 1558941685452833536, 155...   \n",
       "Herzstückspitze_0_AXLE_11      [1558941896855916800, 1558941896855958272, 155...   \n",
       "...                                                                          ...   \n",
       "Schweissverbindung_0_AXLE_42   [1558942699977833216, 1558942699977874944, 155...   \n",
       "Schotter_13_AXLE_42            [1558942513962125056, 1558942513962166528, 155...   \n",
       "Weiche_1_AXLE_42               [1558942100039124992, 1558942100039166720, 155...   \n",
       "Schotter_14_AXLE_42            [1558942089148291584, 1558942089148333312, 155...   \n",
       "Entwässerungsgraben_0_AXLE_42  [1558942643403583232, 1558942643403624960, 155...   \n",
       "\n",
       "                                                                   accelerations  \\\n",
       "Vignolschiene_0_AXLE_11        [-10.078213408229999, -10.571337000069999, -10...   \n",
       "Vignolschiene_1_AXLE_11        [-6.9653707347400005, -3.6367864898199995, -6....   \n",
       "Stockschiene_0_AXLE_11         [-1.6951123469499993, -0.89378651021, -0.33902...   \n",
       "Zungenschiene_0_AXLE_11        [-2.7121797551199993, -2.8662808775699995, -2....   \n",
       "Herzstückspitze_0_AXLE_11      [-12.17398867355, -14.88616842867, -15.4717526...   \n",
       "...                                                                          ...   \n",
       "Schweissverbindung_0_AXLE_42   [-30.487122215, -29.490607495, -36.964467895, ...   \n",
       "Schotter_13_AXLE_42            [7.16244955, 18.93377968, -11.895894469999998,...   \n",
       "Weiche_1_AXLE_42               [-29.303760984999997, -36.37278728, -46.244511...   \n",
       "Schotter_14_AXLE_42            [-26.53220442, -27.466436969999997, -15.881953...   \n",
       "Entwässerungsgraben_0_AXLE_42  [30.33141679, 22.639568795, 16.691621559999998...   \n",
       "\n",
       "                               window_length(s)  severity  vehicle_speed(m/s)  \\\n",
       "Vignolschiene_0_AXLE_11                0.999958         3           10.340905   \n",
       "Vignolschiene_1_AXLE_11                0.999958         3           10.704910   \n",
       "Stockschiene_0_AXLE_11                 0.999959         4           10.776374   \n",
       "Zungenschiene_0_AXLE_11                0.999958         2           10.403099   \n",
       "Herzstückspitze_0_AXLE_11              0.999958         2           27.627283   \n",
       "...                                         ...       ...                 ...   \n",
       "Schweissverbindung_0_AXLE_42           0.999958        -1           44.597393   \n",
       "Schotter_13_AXLE_42                    0.999958         2           38.729076   \n",
       "Weiche_1_AXLE_42                       0.999958         2           41.671242   \n",
       "Schotter_14_AXLE_42                    0.999959         2           42.557716   \n",
       "Entwässerungsgraben_0_AXLE_42          0.999958         3           38.792633   \n",
       "\n",
       "                                  axle campagin_ID  driving_direction  \\\n",
       "Vignolschiene_0_AXLE_11        AXLE_11  819Z_DFZ01                  1   \n",
       "Vignolschiene_1_AXLE_11        AXLE_11  819Z_DFZ01                  1   \n",
       "Stockschiene_0_AXLE_11         AXLE_11  819Z_DFZ01                  1   \n",
       "Zungenschiene_0_AXLE_11        AXLE_11  819Z_DFZ01                  1   \n",
       "Herzstückspitze_0_AXLE_11      AXLE_11  819Z_DFZ01                  1   \n",
       "...                                ...         ...                ...   \n",
       "Schweissverbindung_0_AXLE_42   AXLE_42  819Z_DFZ01                  1   \n",
       "Schotter_13_AXLE_42            AXLE_42  819Z_DFZ01                  1   \n",
       "Weiche_1_AXLE_42               AXLE_42  819Z_DFZ01                  1   \n",
       "Schotter_14_AXLE_42            AXLE_42  819Z_DFZ01                  1   \n",
       "Entwässerungsgraben_0_AXLE_42  AXLE_42  819Z_DFZ01                  1   \n",
       "\n",
       "                                       defect_type  defect_length(m)  \\\n",
       "Vignolschiene_0_AXLE_11              Vignolschiene          0.000000   \n",
       "Vignolschiene_1_AXLE_11              Vignolschiene          0.000000   \n",
       "Stockschiene_0_AXLE_11                Stockschiene          0.000000   \n",
       "Zungenschiene_0_AXLE_11              Zungenschiene          0.000000   \n",
       "Herzstückspitze_0_AXLE_11          Herzstückspitze         75.743815   \n",
       "...                                            ...               ...   \n",
       "Schweissverbindung_0_AXLE_42    Schweissverbindung          0.000000   \n",
       "Schotter_13_AXLE_42                       Schotter          0.000000   \n",
       "Weiche_1_AXLE_42                            Weiche         28.006744   \n",
       "Schotter_14_AXLE_42                       Schotter          0.000000   \n",
       "Entwässerungsgraben_0_AXLE_42  Entwässerungsgraben          0.000000   \n",
       "\n",
       "                               line, defect_ID  class_label  \n",
       "Vignolschiene_0_AXLE_11        (220, A-149704)           18  \n",
       "Vignolschiene_1_AXLE_11        (220, A-179597)           18  \n",
       "Stockschiene_0_AXLE_11         (450, A-188040)           17  \n",
       "Zungenschiene_0_AXLE_11        (450, A-216895)           20  \n",
       "Herzstückspitze_0_AXLE_11      (450, A-222163)           10  \n",
       "...                                        ...          ...  \n",
       "Schweissverbindung_0_AXLE_42   (400, A-228571)           15  \n",
       "Schotter_13_AXLE_42            (400, A-219762)           14  \n",
       "Weiche_1_AXLE_42               (400, A-202102)           19  \n",
       "Schotter_14_AXLE_42            (400, A-195523)           14  \n",
       "Entwässerungsgraben_0_AXLE_42  (400, A-103219)            5  \n",
       "\n",
       "[348 rows x 12 columns]"
      ]
     },
     "execution_count": 13,
     "metadata": {},
     "output_type": "execute_result"
    }
   ],
   "source": [
    "s_features.defects"
   ]
  },
  {
   "cell_type": "code",
   "execution_count": 14,
   "metadata": {},
   "outputs": [],
   "source": [
    "import numpy as np\n",
    "import matplotlib.pyplot as plt\n",
    "\n",
    "def plot_entity(df, threshold=None, savepath='./AiyuDocs/imgs/'):\n",
    "    \"\"\"\n",
    "    Plots each entity and saves them to a figure\n",
    "    params:\n",
    "        df: dataframe for an entity\n",
    "    \"\"\"\n",
    "    #defect_types = np.unique(d_df['defect_type'])\n",
    "\n",
    "    # get ybot, ytop\n",
    "\n",
    "    # ylimits just get the max of all entities.\n",
    "    # max and min of the flattened acceleration\n",
    "    #flatten = lambda l: [item for sublist in l for item in sublist]\n",
    "    accs = np.asarray(np.vstack([val for val in df.accelerations]))\n",
    "    ybot, ytop = np.amax(accs), np.amin(accs)\n",
    "    \n",
    "\n",
    "    feature_names  = df.columns\n",
    "    display_params = feature_names[3:-1] # Skip acc, timestamp, window length\n",
    "    for i, row in df[:2].iterrows():\n",
    "        fig = plt.figure(figsize=(20,5), constrained_layout=True)\n",
    "        \n",
    "        x = (row['timestamps'] - row['timestamps'][0])/10**9\n",
    "        y = row['accelerations']\n",
    "        \n",
    "\n",
    "        ax1 = fig.add_axes((0.1, 0.2, 1, 1))\n",
    "        ax1.plot(x, y, zorder = 1)\n",
    "        ax1.set_title(i)        \n",
    "        ax1.set_xlabel(\"Seconds\")\n",
    "        ax1.set_ylabel(\"Amplitude\")\n",
    "        ax1.set_ylim(ybot,ytop)\n",
    "        #ax1.margins(x=0, y=0.1)\n",
    "\n",
    "        caption = ',    '.join([ f\"|{feature}|: {df.loc[i, feature]}\"  for feature in display_params])\n",
    "        fig.text(0.1, .0005, caption, ha='left', fontsize=12)\n",
    "        fig.set_size_inches(20, 5, forward=True)\n",
    "        #fig.savefig(savepath + i,  bbox_inches='tight')\n",
    "        plt.show()"
   ]
  },
  {
   "cell_type": "code",
   "execution_count": 15,
   "metadata": {},
   "outputs": [
    {
     "name": "stderr",
     "output_type": "stream",
     "text": [
      "/Users/Mac/anaconda/lib/python3.6/site-packages/IPython/core/pylabtools.py:128: UserWarning: Calling figure.constrained_layout, but figure not setup to do constrained layout.  You either called GridSpec without the fig keyword, you are using plt.subplot, or you need to call figure or subplots with the constrained_layout=True kwarg.\n",
      "  fig.canvas.print_figure(bytes_io, **kw)\n"
     ]
    },
    {
     "data": {
      "image/png": "[encoded data removed]",
      "text/plain": [
       "<Figure size 1440x360 with 1 Axes>"
      ]
     },
     "metadata": {
      "needs_background": "light"
     },
     "output_type": "display_data"
    },
    {
     "data": {
      "image/png": "[encoded data removed]",
      "text/plain": [
       "<Figure size 1440x360 with 1 Axes>"
      ]
     },
     "metadata": {
      "needs_background": "light"
     },
     "output_type": "display_data"
    }
   ],
   "source": [
    "plot_entity(s_features.defects)"
   ]
  },
  {
   "cell_type": "code",
   "execution_count": null,
   "metadata": {},
   "outputs": [],
   "source": []
  }
 ],
 "metadata": {
  "kernelspec": {
   "display_name": "Python 3",
   "language": "python",
   "name": "python3"
  },
  "language_info": {
   "codemirror_mode": {
    "name": "ipython",
    "version": 3
   },
   "file_extension": ".py",
   "mimetype": "text/x-python",
   "name": "python",
   "nbconvert_exporter": "python",
   "pygments_lexer": "ipython3",
   "version": "3.6.9"
  }
 },
 "nbformat": 4,
 "nbformat_minor": 2
}
