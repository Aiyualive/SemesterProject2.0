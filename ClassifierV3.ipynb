{
 "cells": [
  {
   "cell_type": "code",
   "execution_count": 7,
   "metadata": {
    "colab": {},
    "colab_type": "code",
    "id": "ORbzVitaMHw1"
   },
   "outputs": [],
   "source": [
    "import pandas as pd\n",
    "import numpy as np\n",
    "import matplotlib as mpl\n",
    "import matplotlib.pyplot as plt\n",
    "\n",
    "\n",
    "\n",
    "mpl.rcParams['figure.figsize'] = (20, 15)\n",
    "colors = plt.rcParams['axes.prop_cycle'].by_key()['color']\n",
    "\n",
    "identifier = 'new'\n",
    "defects    = pd.read_pickle('AiyuDocs/pickles/' + identifier + '_defects_df.pickle')\n",
    "ins_joints = pd.read_pickle('AiyuDocs/pickles/' + identifier + '_ins_joints_df.pickle')\n",
    "switches   = pd.read_pickle('AiyuDocs/pickles/' + identifier + '_switches_df.pickle')\n",
    "\n",
    "features = ['accelerations', \n",
    "            'vehicle_speed(m/s)', \n",
    "            'severity']\n",
    "\n",
    "X = pd.concat([ins_joints[features],\n",
    "               defects[features], \n",
    "               switches[features]], axis=0)\n",
    "\n",
    "y = pd.concat([ins_joints[['class_label']], \n",
    "               defects[['class_label']], \n",
    "               switches[['class_label']]], axis=0)\n",
    "\n",
    "X = X[['accelerations']] # Only use this for now"
   ]
  },
  {
   "cell_type": "code",
   "execution_count": null,
   "metadata": {
    "colab": {
     "base_uri": "https://localhost:8080/",
     "height": 1000
    },
    "colab_type": "code",
    "id": "Oej6lWoWHFAZ",
    "outputId": "4ee68886-74d0-4064-c1ea-7454da42caa6",
    "scrolled": false
   },
   "outputs": [],
   "source": [
    "%env PYTHONHASHSEED=2\n",
    "from src.classifier.NN import NN\n",
    "import numpy as np\n",
    "\n",
    "\n",
    "N_FEATURES = len(X.columns)\n",
    "N_CLASSES  = len(np.unique(y))\n",
    "EPOCHS     = 0\n",
    "BATCH_SIZE = int(len(X)*0.85)\n",
    "\n",
    "clf = NN(N_FEATURES, N_CLASSES)\n",
    "clf.prepare_data(X, y)\n",
    "clf.make_model1()\n",
    "clf.fit(EPOCHS, BATCH_SIZE)\n",
    "clf.test()\n",
    "clf.save_history()\n",
    "clf.predict() ### on validation set\n",
    "clf.measure_performance(accuracy_score)\n",
    "clf.save_model()\n",
    "clf.plot_metrics()\n",
    "clf.show_confusion_matrix()\n",
    "# clf.save_prediction_to_csv(\"\")"
   ]
  },
  {
   "cell_type": "code",
   "execution_count": null,
   "metadata": {
    "colab": {},
    "colab_type": "code",
    "id": "kmMXWMYN1aLF"
   },
   "outputs": [],
   "source": [
    "### Load Weight Example\n",
    "clf2 = NN(N_FEATURES, N_CLASSES)\n",
    "clf2.prepare_data(X, y)\n",
    "clf2.make_model2()\n",
    "clf2.load_weights('model_01-12-2019_150004.hdf5')\n",
    "clf2.predict() ### on validation set\n",
    "clf2.measure_performance(accuracy_score)"
   ]
  },
  {
   "cell_type": "code",
   "execution_count": null,
   "metadata": {
    "colab": {
     "base_uri": "https://localhost:8080/",
     "height": 345
    },
    "colab_type": "code",
    "id": "Ww_4OAGB80la",
    "outputId": "ecdd6fbc-84e3-4e4a-a44c-f083a0183f49"
   },
   "outputs": [],
   "source": [
    "### When using google colab\n",
    "#!pip install PyDrive\n",
    "from google.colab import files\n",
    "# f = glob.glob('*.hdf5') + glob.glob('history*')\n",
    "# !zip -r /content/smote_32dense_20filters.zip /content/03-12_161516\n",
    "f = glob.glob('*.zip')\n",
    "files.download(\"\")\n",
    "files.download(f[0])"
   ]
  },
  {
   "cell_type": "code",
   "execution_count": 5,
   "metadata": {},
   "outputs": [
    {
     "name": "stdout",
     "output_type": "stream",
     "text": [
      "WARNING:tensorflow:From /Users/Mac/anaconda/lib/python3.6/site-packages/tensorflow_core/python/compat/v2_compat.py:65: disable_resource_variables (from tensorflow.python.ops.variable_scope) is deprecated and will be removed in a future version.\n",
      "Instructions for updating:\n",
      "non-resource variables are not supported in the long term\n"
     ]
    }
   ],
   "source": [
    "### Harry Code\n",
    "import tensorflow.compat.v1.keras as l\n",
    "import tensorflow.compat.v1 as tf\n",
    "tf.disable_v2_behavior()\n",
    "import matplotlib.pyplot as plt\n",
    "#sess = tf.compat.v1.keras.backend.get_session()\n",
    "\n",
    "\n",
    "xin = l.layers.Input(shape = (100,1));\n",
    "v1=  l.layers.Conv1D(kernel_size=20, filters = 10, use_bias=True)(xin)\n",
    "vout = l.layers.Flatten()(v1)\n",
    "vout = l.layers.Dense(5)(vout)\n",
    "model_first_layer = l.Model(inputs = xin, outputs = v1);\n",
    "model = l.Model(inputs = xin, outputs = vout)\n",
    "model.summary()\n",
    "plt.pcolor(model.layers[1].weights[0][:,0].eval(session = l.backend.get_session()))\n",
    "plt.show()\n",
    "plt.plot(model.layers[1].weights[0][:,0].eval(session = l.backend.get_session()))\n",
    "plt.show()\n",
    "\n",
    "# Visualization of outputs of the activation:\n",
    "import numpy as np\n",
    "x = np.ones((1,100,1)).astype('float32')\n",
    "#x = np.zeros((1,100,1)).astype('float32')\n",
    "yhat = model_first_layer(x).eval(session = l.backend.get_session())\n",
    "plt.plot(yhat[0])\n",
    "plt.xlabel(\"time\")"
   ]
  },
  {
   "cell_type": "code",
   "execution_count": null,
   "metadata": {},
   "outputs": [],
   "source": [
    "#tf.keras.Model(inputs = model.layers[0].input, outputs = model.layers[3].output)"
   ]
  }
 ],
 "metadata": {
  "colab": {
   "collapsed_sections": [],
   "machine_shape": "hm",
   "name": "Classifier.ipynb",
   "provenance": [],
   "toc_visible": true
  },
  "kernelspec": {
   "display_name": "Python 3",
   "language": "python",
   "name": "python3"
  },
  "language_info": {
   "codemirror_mode": {
    "name": "ipython",
    "version": 3
   },
   "file_extension": ".py",
   "mimetype": "text/x-python",
   "name": "python",
   "nbconvert_exporter": "python",
   "pygments_lexer": "ipython3",
   "version": "3.6.9"
  }
 },
 "nbformat": 4,
 "nbformat_minor": 1
}
